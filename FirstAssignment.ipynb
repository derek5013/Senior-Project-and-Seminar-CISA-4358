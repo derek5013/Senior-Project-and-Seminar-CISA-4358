print ("My name is Derek Davila")
print ("My ID is J01005491")
print ("My favorite quote is: It's so easy a caveman can do it.")



